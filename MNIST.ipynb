{
  "nbformat": 4,
  "nbformat_minor": 0,
  "metadata": {
    "kernelspec": {
      "display_name": "Python 3",
      "language": "python",
      "name": "python3"
    },
    "language_info": {
      "codemirror_mode": {
        "name": "ipython",
        "version": 3
      },
      "file_extension": ".py",
      "mimetype": "text/x-python",
      "name": "python",
      "nbconvert_exporter": "python",
      "pygments_lexer": "ipython3",
      "version": "3.8.3"
    },
    "colab": {
      "name": "MNIST.ipynb",
      "provenance": [],
      "collapsed_sections": []
    }
  },
  "cells": [
    {
      "cell_type": "markdown",
      "metadata": {
        "id": "CcGBPo4QQ9w9"
      },
      "source": [
        "# DNN을 활용한 MNIST 예측\n",
        "이미지분석 연습용 프로젝트입니다"
      ]
    },
    {
      "cell_type": "markdown",
      "metadata": {
        "id": "x59YvWrgRFiU"
      },
      "source": [
        "[![Open In Colab](https://colab.research.google.com/assets/colab-badge.svg)](https://colab.research.google.com/github/DongChanKIM2/Image-Analysis/blob/main/MNIST.ipynb)"
      ]
    },
    {
      "cell_type": "markdown",
      "metadata": {
        "id": "wwnkMc3AQ9xE"
      },
      "source": [
        "## 필요한 라이브러리 생성"
      ]
    },
    {
      "cell_type": "code",
      "metadata": {
        "id": "nTvgniZfQ9xF"
      },
      "source": [
        "import keras # tensorflow의 keras 사용\n",
        "from keras.datasets import mnist # keras 내부의 mnist 사용\n",
        "from keras.models import Sequential\n",
        "from keras.layers import Dense, Dropout, Activation\n",
        "from keras.optimizers import RMSprop # 최적화\n",
        "import matplotlib.pyplot as plt # 시각화\n",
        "from keras.layers.normalization import BatchNormalization\n",
        "import h5py\n",
        "%matplotlib inline"
      ],
      "execution_count": null,
      "outputs": []
    },
    {
      "cell_type": "markdown",
      "metadata": {
        "id": "E3gwlEY-Q9xG"
      },
      "source": [
        "## Batch_size & epoch\n",
        "60000장 데이터의 경사하강법을 모두 구하기엔 비효율적이므로   2000개의 데이터를 뽑고(가중치: 60000/2000=30)  \n",
        "epoch(100)번만큼 반복해서 값 정밀화"
      ]
    },
    {
      "cell_type": "code",
      "metadata": {
        "id": "BQljtSufQ9xG"
      },
      "source": [
        "# 자신이 설정하는 파라미터\n",
        "\n",
        "# 배치사이즈\n",
        "batch_size = 2000\n",
        "\n",
        "# 에포크수\n",
        "epochs = 100"
      ],
      "execution_count": null,
      "outputs": []
    },
    {
      "cell_type": "markdown",
      "metadata": {
        "id": "2EfTPd-mQ9xG"
      },
      "source": [
        "## 7만건의 데이터 split 후 정규화"
      ]
    },
    {
      "cell_type": "code",
      "metadata": {
        "id": "ypFmt8ihQ9xH",
        "outputId": "300cb079-303f-44f3-fc7a-212d34efc091"
      },
      "source": [
        "# 데이터 추출\n",
        "(x_train, y_train), (x_test, y_test) = mnist.load_data()\n",
        "num_classes = 10\n",
        "# 정규화작업(정확성 향상)\n",
        "x_train = x_train.reshape(60000, 784)\n",
        "x_test = x_test.reshape(10000, 784)\n",
        "x_train = x_train.astype('float32')\n",
        "x_test = x_test.astype('float32')\n",
        "x_train /= 255\n",
        "x_test /= 255\n",
        "print(x_train.shape[0], 'train samples')\n",
        "print(x_test.shape[0], 'test samples')\n",
        "\n",
        "# one-hot-label에 변환\n",
        "y_train = keras.utils.to_categorical(y_train, num_classes)\n",
        "y_test = keras.utils.to_categorical(y_test, num_classes)"
      ],
      "execution_count": null,
      "outputs": [
        {
          "output_type": "stream",
          "text": [
            "60000 train samples\n",
            "10000 test samples\n"
          ],
          "name": "stdout"
        }
      ]
    },
    {
      "cell_type": "markdown",
      "metadata": {
        "id": "xymYOG72Q9xI"
      },
      "source": [
        "### 1.은닉층: relu 활성화함수 256 -> 128 -> 32 (노드)\n",
        "### 2.출력층: softmmax 함수 사용으로 결과값 확률적인 표현으로 변환"
      ]
    },
    {
      "cell_type": "code",
      "metadata": {
        "id": "xUYk3HEHQ9xI",
        "outputId": "ffda44a3-3303-4eaa-b004-88b448f4c072"
      },
      "source": [
        "# 모델의 구축\n",
        "model = Sequential()\n",
        "\n",
        "# 첫번째 히든 레이어(입력784 -> 출력256)\n",
        "model.add(Dense(256, activation=\"relu\",input_shape=(784,)))\n",
        "model.add(Dropout(0.1))\n",
        "\n",
        "# 두번째 히든 레이어(256 -> 출력128)\n",
        "## 히든레이어는 아래의 두행을 복사->붙여넣기하는 것으로 추가할 수 있습니다.\n",
        "model.add(Dense(128, activation='relu'))\n",
        "model.add(Dropout(0.1))\n",
        "\n",
        "# 3번째 히든 레이어(128 -> 출력32)\n",
        "## 隠れ層は以下の2行をコピペすることで追加できます\n",
        "model.add(Dense(32, activation='relu'))\n",
        "model.add(Dropout(0.1))\n",
        "\n",
        "# 출력 레이어力層(입력32 -> 출력10)\n",
        "model.add(Dense(10, activation='softmax'))\n",
        "\n",
        "# 모델 개요 표시\n",
        "model.summary()\n",
        "\n",
        "# 모델의 컴파일モ\n",
        "model.compile(loss='categorical_crossentropy',\n",
        "              optimizer='SGD',\n",
        "              metrics=['accuracy'])\n",
        "\n",
        "# 피팅(학습)\n",
        "history = model.fit(x_train, y_train,\n",
        "                    batch_size=batch_size,\n",
        "                    epochs=epochs,\n",
        "                    verbose=1,\n",
        "                    validation_data=(x_test, y_test))\n",
        "\n",
        "# 스코어의 계산과 표시\n",
        "score = model.evaluate(x_test, y_test, verbose=1)\n",
        "print('Test loss:', score[0])\n",
        "print('Test accuracy:', score[1])"
      ],
      "execution_count": null,
      "outputs": [
        {
          "output_type": "stream",
          "text": [
            "_________________________________________________________________\n",
            "Layer (type)                 Output Shape              Param #   \n",
            "=================================================================\n",
            "dense_1 (Dense)              (None, 256)               200960    \n",
            "_________________________________________________________________\n",
            "dropout_1 (Dropout)          (None, 256)               0         \n",
            "_________________________________________________________________\n",
            "dense_2 (Dense)              (None, 128)               32896     \n",
            "_________________________________________________________________\n",
            "dropout_2 (Dropout)          (None, 128)               0         \n",
            "_________________________________________________________________\n",
            "dense_3 (Dense)              (None, 32)                4128      \n",
            "_________________________________________________________________\n",
            "dropout_3 (Dropout)          (None, 32)                0         \n",
            "_________________________________________________________________\n",
            "dense_4 (Dense)              (None, 10)                330       \n",
            "=================================================================\n",
            "Total params: 238,314\n",
            "Trainable params: 238,314\n",
            "Non-trainable params: 0\n",
            "_________________________________________________________________\n",
            "Train on 60000 samples, validate on 10000 samples\n",
            "Epoch 1/100\n",
            "60000/60000 [==============================] - 4s 61us/step - loss: 2.3041 - acc: 0.1136 - val_loss: 2.2406 - val_acc: 0.1802\n",
            "Epoch 2/100\n",
            "60000/60000 [==============================] - 2s 39us/step - loss: 2.2155 - acc: 0.2063 - val_loss: 2.1432 - val_acc: 0.3392\n",
            "Epoch 3/100\n",
            "60000/60000 [==============================] - 2s 38us/step - loss: 2.1211 - acc: 0.3096 - val_loss: 2.0240 - val_acc: 0.5036\n",
            "Epoch 4/100\n",
            "60000/60000 [==============================] - 3s 51us/step - loss: 2.0054 - acc: 0.4139 - val_loss: 1.8806 - val_acc: 0.5860\n",
            "Epoch 5/100\n",
            "60000/60000 [==============================] - 4s 62us/step - loss: 1.8728 - acc: 0.4900 - val_loss: 1.7195 - val_acc: 0.6443\n",
            "Epoch 6/100\n",
            "60000/60000 [==============================] - 3s 53us/step - loss: 1.7241 - acc: 0.5457 - val_loss: 1.5492 - val_acc: 0.6920\n",
            "Epoch 7/100\n",
            "60000/60000 [==============================] - 3s 52us/step - loss: 1.5723 - acc: 0.5885 - val_loss: 1.3819 - val_acc: 0.7214\n",
            "Epoch 8/100\n",
            "60000/60000 [==============================] - 4s 70us/step - loss: 1.4318 - acc: 0.6207 - val_loss: 1.2293 - val_acc: 0.7467\n",
            "Epoch 9/100\n",
            "60000/60000 [==============================] - 3s 55us/step - loss: 1.3034 - acc: 0.6412 - val_loss: 1.0979 - val_acc: 0.7694\n",
            "Epoch 10/100\n",
            "60000/60000 [==============================] - 3s 53us/step - loss: 1.1981 - acc: 0.6610 - val_loss: 0.9900 - val_acc: 0.7817\n",
            "Epoch 11/100\n",
            "60000/60000 [==============================] - 3s 53us/step - loss: 1.1053 - acc: 0.6814 - val_loss: 0.9013 - val_acc: 0.7964\n",
            "Epoch 12/100\n",
            "60000/60000 [==============================] - 3s 53us/step - loss: 1.0342 - acc: 0.6957 - val_loss: 0.8297 - val_acc: 0.8078\n",
            "Epoch 13/100\n",
            "60000/60000 [==============================] - 3s 54us/step - loss: 0.9730 - acc: 0.7098 - val_loss: 0.7695 - val_acc: 0.8202\n",
            "Epoch 14/100\n",
            "60000/60000 [==============================] - 3s 54us/step - loss: 0.9213 - acc: 0.7216 - val_loss: 0.7208 - val_acc: 0.8260\n",
            "Epoch 15/100\n",
            "60000/60000 [==============================] - 3s 54us/step - loss: 0.8751 - acc: 0.7361 - val_loss: 0.6792 - val_acc: 0.8348\n",
            "Epoch 16/100\n",
            "60000/60000 [==============================] - 3s 54us/step - loss: 0.8453 - acc: 0.7455 - val_loss: 0.6449 - val_acc: 0.8412\n",
            "Epoch 17/100\n",
            "60000/60000 [==============================] - 3s 54us/step - loss: 0.8064 - acc: 0.7554 - val_loss: 0.6151 - val_acc: 0.8469\n",
            "Epoch 18/100\n",
            "60000/60000 [==============================] - 3s 54us/step - loss: 0.7778 - acc: 0.7621 - val_loss: 0.5886 - val_acc: 0.8522\n",
            "Epoch 19/100\n",
            "60000/60000 [==============================] - 4s 62us/step - loss: 0.7545 - acc: 0.7699 - val_loss: 0.5661 - val_acc: 0.8558\n",
            "Epoch 20/100\n",
            "60000/60000 [==============================] - 3s 57us/step - loss: 0.7337 - acc: 0.7742 - val_loss: 0.5466 - val_acc: 0.8590\n",
            "Epoch 21/100\n",
            "60000/60000 [==============================] - 4s 65us/step - loss: 0.7114 - acc: 0.7808 - val_loss: 0.5289 - val_acc: 0.8637\n",
            "Epoch 22/100\n",
            "60000/60000 [==============================] - 3s 44us/step - loss: 0.6893 - acc: 0.7891 - val_loss: 0.5123 - val_acc: 0.8671\n",
            "Epoch 23/100\n",
            "60000/60000 [==============================] - 2s 35us/step - loss: 0.6746 - acc: 0.7929 - val_loss: 0.4981 - val_acc: 0.8694\n",
            "Epoch 24/100\n",
            "60000/60000 [==============================] - 3s 51us/step - loss: 0.6618 - acc: 0.7968 - val_loss: 0.4855 - val_acc: 0.8710\n",
            "Epoch 25/100\n",
            "60000/60000 [==============================] - 2s 34us/step - loss: 0.6434 - acc: 0.8040 - val_loss: 0.4737 - val_acc: 0.8739\n",
            "Epoch 26/100\n",
            "60000/60000 [==============================] - 3s 52us/step - loss: 0.6308 - acc: 0.8085 - val_loss: 0.4630 - val_acc: 0.8766\n",
            "Epoch 27/100\n",
            "60000/60000 [==============================] - 2s 36us/step - loss: 0.6227 - acc: 0.8090 - val_loss: 0.4531 - val_acc: 0.8784\n",
            "Epoch 28/100\n",
            "60000/60000 [==============================] - 3s 45us/step - loss: 0.6086 - acc: 0.8149 - val_loss: 0.4444 - val_acc: 0.8799\n",
            "Epoch 29/100\n",
            "60000/60000 [==============================] - 3s 45us/step - loss: 0.5965 - acc: 0.8205 - val_loss: 0.4359 - val_acc: 0.8819\n",
            "Epoch 30/100\n",
            "60000/60000 [==============================] - 4s 63us/step - loss: 0.5868 - acc: 0.8217 - val_loss: 0.4282 - val_acc: 0.8836\n",
            "Epoch 31/100\n",
            "60000/60000 [==============================] - 3s 55us/step - loss: 0.5778 - acc: 0.8243 - val_loss: 0.4206 - val_acc: 0.8862\n",
            "Epoch 32/100\n",
            "60000/60000 [==============================] - 3s 54us/step - loss: 0.5689 - acc: 0.8286 - val_loss: 0.4142 - val_acc: 0.8874\n",
            "Epoch 33/100\n",
            "60000/60000 [==============================] - 3s 51us/step - loss: 0.5607 - acc: 0.8310 - val_loss: 0.4069 - val_acc: 0.8894\n",
            "Epoch 34/100\n",
            "60000/60000 [==============================] - 3s 51us/step - loss: 0.5521 - acc: 0.8338 - val_loss: 0.4010 - val_acc: 0.8906\n",
            "Epoch 35/100\n",
            "60000/60000 [==============================] - 3s 58us/step - loss: 0.5449 - acc: 0.8363 - val_loss: 0.3947 - val_acc: 0.8922\n",
            "Epoch 36/100\n",
            "60000/60000 [==============================] - 4s 59us/step - loss: 0.5378 - acc: 0.8368 - val_loss: 0.3896 - val_acc: 0.8926\n",
            "Epoch 37/100\n",
            "60000/60000 [==============================] - 3s 51us/step - loss: 0.5307 - acc: 0.8414 - val_loss: 0.3846 - val_acc: 0.8938\n",
            "Epoch 38/100\n",
            "60000/60000 [==============================] - 3s 54us/step - loss: 0.5293 - acc: 0.8411 - val_loss: 0.3800 - val_acc: 0.8949\n",
            "Epoch 39/100\n",
            "60000/60000 [==============================] - 4s 63us/step - loss: 0.5200 - acc: 0.8429 - val_loss: 0.3752 - val_acc: 0.8969\n",
            "Epoch 40/100\n",
            "60000/60000 [==============================] - 3s 54us/step - loss: 0.5145 - acc: 0.8458 - val_loss: 0.3707 - val_acc: 0.8978\n",
            "Epoch 41/100\n",
            "60000/60000 [==============================] - 3s 56us/step - loss: 0.5079 - acc: 0.8481 - val_loss: 0.3668 - val_acc: 0.8983\n",
            "Epoch 42/100\n",
            "60000/60000 [==============================] - 4s 60us/step - loss: 0.5018 - acc: 0.8509 - val_loss: 0.3629 - val_acc: 0.8993\n",
            "Epoch 43/100\n",
            "60000/60000 [==============================] - 5s 83us/step - loss: 0.4965 - acc: 0.8527 - val_loss: 0.3587 - val_acc: 0.8999\n",
            "Epoch 44/100\n",
            "60000/60000 [==============================] - 4s 69us/step - loss: 0.4922 - acc: 0.8541 - val_loss: 0.3552 - val_acc: 0.9011\n",
            "Epoch 45/100\n",
            "60000/60000 [==============================] - 4s 62us/step - loss: 0.4863 - acc: 0.8552 - val_loss: 0.3513 - val_acc: 0.9017\n",
            "Epoch 46/100\n",
            "60000/60000 [==============================] - 4s 75us/step - loss: 0.4821 - acc: 0.8558 - val_loss: 0.3478 - val_acc: 0.9033\n",
            "Epoch 47/100\n",
            "60000/60000 [==============================] - 5s 75us/step - loss: 0.4784 - acc: 0.8592 - val_loss: 0.3444 - val_acc: 0.9039\n",
            "Epoch 48/100\n",
            "60000/60000 [==============================] - 4s 58us/step - loss: 0.4731 - acc: 0.8591 - val_loss: 0.3410 - val_acc: 0.9041\n",
            "Epoch 49/100\n",
            "60000/60000 [==============================] - 4s 64us/step - loss: 0.4695 - acc: 0.8619 - val_loss: 0.3375 - val_acc: 0.9052\n",
            "Epoch 50/100\n",
            "60000/60000 [==============================] - 3s 57us/step - loss: 0.4653 - acc: 0.8621 - val_loss: 0.3347 - val_acc: 0.9063\n",
            "Epoch 51/100\n",
            "60000/60000 [==============================] - 3s 55us/step - loss: 0.4601 - acc: 0.8626 - val_loss: 0.3318 - val_acc: 0.9074\n",
            "Epoch 52/100\n",
            "60000/60000 [==============================] - 3s 56us/step - loss: 0.4588 - acc: 0.8653 - val_loss: 0.3289 - val_acc: 0.9083\n",
            "Epoch 53/100\n",
            "60000/60000 [==============================] - 3s 54us/step - loss: 0.4512 - acc: 0.8676 - val_loss: 0.3264 - val_acc: 0.9085\n",
            "Epoch 54/100\n",
            "60000/60000 [==============================] - 3s 54us/step - loss: 0.4495 - acc: 0.8664 - val_loss: 0.3234 - val_acc: 0.9095\n",
            "Epoch 55/100\n",
            "60000/60000 [==============================] - 3s 56us/step - loss: 0.4464 - acc: 0.8685 - val_loss: 0.3212 - val_acc: 0.9103\n",
            "Epoch 56/100\n",
            "60000/60000 [==============================] - 3s 55us/step - loss: 0.4426 - acc: 0.8693 - val_loss: 0.3185 - val_acc: 0.9109\n",
            "Epoch 57/100\n",
            "60000/60000 [==============================] - 3s 55us/step - loss: 0.4388 - acc: 0.8711 - val_loss: 0.3155 - val_acc: 0.9120\n",
            "Epoch 58/100\n",
            "60000/60000 [==============================] - 3s 55us/step - loss: 0.4339 - acc: 0.8713 - val_loss: 0.3133 - val_acc: 0.9123\n",
            "Epoch 59/100\n",
            "60000/60000 [==============================] - 3s 54us/step - loss: 0.4330 - acc: 0.8725 - val_loss: 0.3108 - val_acc: 0.9127\n",
            "Epoch 60/100\n",
            "60000/60000 [==============================] - 3s 50us/step - loss: 0.4299 - acc: 0.8725 - val_loss: 0.3087 - val_acc: 0.9143\n",
            "Epoch 61/100\n",
            "60000/60000 [==============================] - 3s 49us/step - loss: 0.4241 - acc: 0.8752 - val_loss: 0.3064 - val_acc: 0.9146\n",
            "Epoch 62/100\n",
            "60000/60000 [==============================] - 3s 49us/step - loss: 0.4206 - acc: 0.8763 - val_loss: 0.3040 - val_acc: 0.9152\n",
            "Epoch 63/100\n",
            "60000/60000 [==============================] - 3s 48us/step - loss: 0.4193 - acc: 0.8770 - val_loss: 0.3020 - val_acc: 0.9157\n",
            "Epoch 64/100\n",
            "60000/60000 [==============================] - 3s 48us/step - loss: 0.4177 - acc: 0.8763 - val_loss: 0.2998 - val_acc: 0.9162\n",
            "Epoch 65/100\n",
            "60000/60000 [==============================] - 3s 49us/step - loss: 0.4104 - acc: 0.8783 - val_loss: 0.2981 - val_acc: 0.9165\n",
            "Epoch 66/100\n",
            "60000/60000 [==============================] - 3s 48us/step - loss: 0.4107 - acc: 0.8791 - val_loss: 0.2958 - val_acc: 0.9169\n",
            "Epoch 67/100\n",
            "60000/60000 [==============================] - 3s 49us/step - loss: 0.4085 - acc: 0.8806 - val_loss: 0.2936 - val_acc: 0.9173\n",
            "Epoch 68/100\n",
            "60000/60000 [==============================] - 3s 49us/step - loss: 0.4064 - acc: 0.8815 - val_loss: 0.2917 - val_acc: 0.9178\n",
            "Epoch 69/100\n",
            "60000/60000 [==============================] - 3s 48us/step - loss: 0.4003 - acc: 0.8821 - val_loss: 0.2900 - val_acc: 0.9182\n",
            "Epoch 70/100\n",
            "60000/60000 [==============================] - 3s 52us/step - loss: 0.3998 - acc: 0.8835 - val_loss: 0.2878 - val_acc: 0.9188\n",
            "Epoch 71/100\n",
            "60000/60000 [==============================] - 3s 49us/step - loss: 0.3957 - acc: 0.8836 - val_loss: 0.2859 - val_acc: 0.9195\n",
            "Epoch 72/100\n",
            "60000/60000 [==============================] - 3s 48us/step - loss: 0.3974 - acc: 0.8830 - val_loss: 0.2843 - val_acc: 0.9196\n",
            "Epoch 73/100\n",
            "60000/60000 [==============================] - 3s 48us/step - loss: 0.3915 - acc: 0.8842 - val_loss: 0.2825 - val_acc: 0.9201\n",
            "Epoch 74/100\n",
            "60000/60000 [==============================] - 3s 48us/step - loss: 0.3899 - acc: 0.8869 - val_loss: 0.2809 - val_acc: 0.9199\n",
            "Epoch 75/100\n",
            "60000/60000 [==============================] - 3s 50us/step - loss: 0.3848 - acc: 0.8872 - val_loss: 0.2787 - val_acc: 0.9214\n",
            "Epoch 76/100\n",
            "60000/60000 [==============================] - 3s 48us/step - loss: 0.3850 - acc: 0.8884 - val_loss: 0.2772 - val_acc: 0.9221\n",
            "Epoch 77/100\n",
            "60000/60000 [==============================] - 3s 49us/step - loss: 0.3829 - acc: 0.8885 - val_loss: 0.2750 - val_acc: 0.9227\n",
            "Epoch 78/100\n",
            "60000/60000 [==============================] - 3s 49us/step - loss: 0.3820 - acc: 0.8873 - val_loss: 0.2737 - val_acc: 0.9225\n",
            "Epoch 79/100\n",
            "60000/60000 [==============================] - 3s 48us/step - loss: 0.3776 - acc: 0.8894 - val_loss: 0.2721 - val_acc: 0.9228\n",
            "Epoch 80/100\n",
            "60000/60000 [==============================] - 3s 49us/step - loss: 0.3774 - acc: 0.8890 - val_loss: 0.2704 - val_acc: 0.9233\n",
            "Epoch 81/100\n",
            "60000/60000 [==============================] - 3s 49us/step - loss: 0.3744 - acc: 0.8905 - val_loss: 0.2690 - val_acc: 0.9237\n",
            "Epoch 82/100\n",
            "60000/60000 [==============================] - 3s 49us/step - loss: 0.3684 - acc: 0.8910 - val_loss: 0.2672 - val_acc: 0.9238\n",
            "Epoch 83/100\n",
            "60000/60000 [==============================] - 3s 49us/step - loss: 0.3710 - acc: 0.8918 - val_loss: 0.2659 - val_acc: 0.9245\n",
            "Epoch 84/100\n",
            "60000/60000 [==============================] - 3s 49us/step - loss: 0.3676 - acc: 0.8932 - val_loss: 0.2641 - val_acc: 0.9255\n",
            "Epoch 85/100\n",
            "60000/60000 [==============================] - 3s 49us/step - loss: 0.3652 - acc: 0.8936 - val_loss: 0.2630 - val_acc: 0.9259\n",
            "Epoch 86/100\n",
            "60000/60000 [==============================] - 3s 49us/step - loss: 0.3642 - acc: 0.8936 - val_loss: 0.2612 - val_acc: 0.9266\n",
            "Epoch 87/100\n",
            "60000/60000 [==============================] - 3s 50us/step - loss: 0.3617 - acc: 0.8943 - val_loss: 0.2601 - val_acc: 0.9272\n",
            "Epoch 88/100\n",
            "60000/60000 [==============================] - 3s 49us/step - loss: 0.3587 - acc: 0.8953 - val_loss: 0.2588 - val_acc: 0.9268\n",
            "Epoch 89/100\n",
            "60000/60000 [==============================] - 3s 49us/step - loss: 0.3599 - acc: 0.8947 - val_loss: 0.2570 - val_acc: 0.9278\n",
            "Epoch 90/100\n",
            "60000/60000 [==============================] - 3s 49us/step - loss: 0.3589 - acc: 0.8957 - val_loss: 0.2558 - val_acc: 0.9280\n",
            "Epoch 91/100\n",
            "60000/60000 [==============================] - 3s 50us/step - loss: 0.3533 - acc: 0.8968 - val_loss: 0.2545 - val_acc: 0.9283\n",
            "Epoch 92/100\n",
            "60000/60000 [==============================] - 3s 49us/step - loss: 0.3519 - acc: 0.8961 - val_loss: 0.2530 - val_acc: 0.9284\n",
            "Epoch 93/100\n",
            "60000/60000 [==============================] - 3s 49us/step - loss: 0.3510 - acc: 0.8964 - val_loss: 0.2517 - val_acc: 0.9285\n",
            "Epoch 94/100\n",
            "60000/60000 [==============================] - 3s 49us/step - loss: 0.3490 - acc: 0.8992 - val_loss: 0.2504 - val_acc: 0.9289\n",
            "Epoch 95/100\n",
            "60000/60000 [==============================] - 3s 49us/step - loss: 0.3458 - acc: 0.8990 - val_loss: 0.2495 - val_acc: 0.9292\n",
            "Epoch 96/100\n",
            "60000/60000 [==============================] - 3s 49us/step - loss: 0.3449 - acc: 0.8993 - val_loss: 0.2480 - val_acc: 0.9300\n",
            "Epoch 97/100\n",
            "60000/60000 [==============================] - 3s 49us/step - loss: 0.3403 - acc: 0.9006 - val_loss: 0.2467 - val_acc: 0.9306\n",
            "Epoch 98/100\n",
            "60000/60000 [==============================] - 3s 49us/step - loss: 0.3413 - acc: 0.9003 - val_loss: 0.2454 - val_acc: 0.9313\n",
            "Epoch 99/100\n",
            "60000/60000 [==============================] - 3s 49us/step - loss: 0.3414 - acc: 0.8997 - val_loss: 0.2440 - val_acc: 0.9321\n",
            "Epoch 100/100\n",
            "60000/60000 [==============================] - 3s 49us/step - loss: 0.3396 - acc: 0.8992 - val_loss: 0.2427 - val_acc: 0.9321\n",
            "10000/10000 [==============================] - 1s 56us/step\n",
            "Test loss: 0.2427095901027322\n",
            "Test accuracy: 0.9321\n"
          ],
          "name": "stdout"
        }
      ]
    },
    {
      "cell_type": "code",
      "metadata": {
        "id": "xWYGks-NQ9xJ",
        "outputId": "14f7cac8-c881-41c4-ad74-c316f4cc9897"
      },
      "source": [
        "model.evaluate(x_test, y_test, verbose=1)"
      ],
      "execution_count": null,
      "outputs": [
        {
          "output_type": "stream",
          "text": [
            "10000/10000 [==============================] - 1s 60us/step\n"
          ],
          "name": "stdout"
        },
        {
          "output_type": "execute_result",
          "data": {
            "text/plain": [
              "[0.2427095901027322, 0.9321]"
            ]
          },
          "metadata": {
            "tags": []
          },
          "execution_count": 5
        }
      ]
    },
    {
      "cell_type": "code",
      "metadata": {
        "id": "RY7TqBFaQ9xK",
        "outputId": "c04fca76-28ae-471f-e305-9b31bae9de9b"
      },
      "source": [
        "# 학습의 결과를 플롯\n",
        "loss = history.history['loss']\n",
        "val_loss = history.history['val_loss']\n",
        "\n",
        "acc = history.history['acc']\n",
        "val_acc = history.history['val_acc']\n",
        "\n",
        "plt.figure(figsize=(10,10))\n",
        "plt.subplot(2,1,1)\n",
        "plt.title('Loss')\n",
        "epochs = len(loss)\n",
        "plt.plot(range(epochs), loss, marker='.', label='loss')\n",
        "plt.plot(range(epochs), val_loss, marker='.', label='val_loss')\n",
        "plt.legend(loc='best')\n",
        "plt.grid()\n",
        "plt.xlabel('epoch')\n",
        "plt.ylabel('acc')\n",
        "\n",
        "plt.subplot(2,1,2)\n",
        "plt.title('Accuracy')\n",
        "plt.plot(range(epochs), acc, marker='.', label='acc')\n",
        "plt.plot(range(epochs), val_acc, marker='.', label='val_acc')\n",
        "plt.legend(loc='best')\n",
        "plt.grid()\n",
        "plt.xlabel('epoch')\n",
        "plt.ylabel('acc')\n",
        "plt.show()"
      ],
      "execution_count": null,
      "outputs": [
        {
          "output_type": "display_data",
          "data": {
            "image/png": "[encoded data removed]",
            "text/plain": [
              "<Figure size 720x720 with 2 Axes>"
            ]
          },
          "metadata": {
            "tags": [],
            "needs_background": "light"
          }
        }
      ]
    },
    {
      "cell_type": "code",
      "metadata": {
        "id": "pXtAqxDPQ9xK"
      },
      "source": [
        ""
      ],
      "execution_count": null,
      "outputs": []
    }
  ]
}